# import libraries

import pandas as pd
import matplotlib.pyplot as plt
import seaborn as sns

# read the file for regression data

activity = pd.read_csv('/Users/sammyb/Downloads/RegressionData.csv', index_col=0)

# show 5 rows of data

activity.head(5)

# summary statistics

activity.describe()

# plot BMI and WeeklySteps

plt.scatter(activity['BMI'], activity['WeeklySteps'], c ="blue")
plt.xlabel('BMI')
plt.ylabel('WeeklySteps')

# use pairplot to create a grid of plots showing the relationship between variables
sns.pairplot(activity)
plt.show()

# Define the OLS formula
ols_formula = 'WeeklySteps ~ BMI'

# Fit the OLS regression model
OLS = ols(formula=ols_formula, data=activity)
model = OLS.fit()

# Show the model summary
print(model.summary())

# Plot the regression line
sns.regplot(x='BMI', y='WeeklySteps', data=activity)
plt.show()

# Predict WeeklySteps for a given BMI (e.g., 40)
predicted = model.predict(pd.DataFrame({'BMI': [40]}))
print(f"Predicted WeeklySteps for BMI of 40: {predicted[0]}")
