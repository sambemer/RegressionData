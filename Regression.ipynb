# import libraries

import pandas as pd
import matplotlib.pyplot as plt
import seaborn as sns

# read the file for regression data

activity = pd.read_csv('/Users/sammyb/Downloads/RegressionData.csv', index_col=0)

# show 5 rows of data

activity.head(5)

# summary statistics

activity.describe()

# plot BMI and WeeklySteps

plt.scatter(activity['BMI'], activity['WeeklySteps'], c ="blue")
plt.xlabel('BMI')
plt.ylabel('WeeklySteps')

# use pairplot to create a grid of plots showing the relationship between variables
sns.pairplot(activity)

OLS = ols(formula = ols_formula, data = ols_activity)

ols_formula = 'WeeklySteps ~ BMI'

from statsmodels.formula.api import ols

OLS = ols(formula = ols_formula, data = ols_activity)
model = OLS.fit()

model.summary()

sns.regplot(x = 'BMI', y = 'WeeklySteps', data = ols_activity)

model.predict({'BMI': 40 })
